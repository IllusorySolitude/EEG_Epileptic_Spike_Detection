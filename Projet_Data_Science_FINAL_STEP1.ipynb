{
  "nbformat": 4,
  "nbformat_minor": 0,
  "metadata": {
    "colab": {
      "name": "Projet_Data_Science_FINAL_STEP1.ipynb",
      "provenance": [],
      "collapsed_sections": []
    },
    "kernelspec": {
      "name": "python3",
      "display_name": "Python 3"
    },
    "language_info": {
      "name": "python"
    }
  },
  "cells": [
    {
      "cell_type": "markdown",
      "metadata": {
        "id": "HNmGcRIAq5Nr"
      },
      "source": [
        "DEPENDENCIES"
      ]
    },
    {
      "cell_type": "code",
      "execution_count": null,
      "metadata": {
        "id": "bTMVjff_mLbE"
      },
      "outputs": [],
      "source": [
        "import numpy as np\n",
        "import pandas as pd\n",
        "import matplotlib.pyplot as plt\n",
        "from sklearn.linear_model import LogisticRegression\n",
        "from sklearn.pipeline import Pipeline\n",
        "from sklearn.preprocessing import StandardScaler\n",
        "from sklearn.model_selection import GroupKFold,GridSearchCV,cross_validate\n",
        "from sklearn.metrics import accuracy_score\n",
        "from scipy import stats\n",
        "from sklearn import svm\n",
        "from sklearn.tree import DecisionTreeClassifier\n",
        "from sklearn.ensemble import RandomForestClassifier\n",
        "from sklearn.ensemble import RandomForestRegressor"
      ]
    },
    {
      "cell_type": "markdown",
      "metadata": {
        "id": "2mPDCkxxqzeu"
      },
      "source": [
        "TRAIN DATA"
      ]
    },
    {
      "cell_type": "code",
      "execution_count": null,
      "metadata": {
        "id": "R34OIPACnu7F"
      },
      "outputs": [],
      "source": [
        "train_positive = np.fromfile('exp1-train-400pos.bin', dtype=np.float32).reshape([400, 5, 768])\n",
        "train_negative = np.fromfile('exp1-train-2000neg.bin', dtype=np.float32).reshape([2000, 5, 768])\n",
        "\n",
        "train_data = np.concatenate([train_positive, train_negative])"
      ]
    },
    {
      "cell_type": "markdown",
      "metadata": {
        "id": "jCnI3o6Hq2CF"
      },
      "source": [
        "TEST DATA"
      ]
    },
    {
      "cell_type": "code",
      "execution_count": null,
      "metadata": {
        "id": "dQyljUGjoWvT"
      },
      "outputs": [],
      "source": [
        "test_data = np.fromfile('exp12-test-1200.bin', dtype=np.float32).reshape([1200, 5, 768])"
      ]
    },
    {
      "cell_type": "markdown",
      "source": [
        "LABELS"
      ],
      "metadata": {
        "id": "OSqZHaBgtozd"
      }
    },
    {
      "cell_type": "code",
      "execution_count": null,
      "metadata": {
        "id": "wcnzMOd8pkgG"
      },
      "outputs": [],
      "source": [
        "train_negative_labels = [len(i) * [0] for i in train_negative]\n",
        "train_positive_labels = [len(i) * [1] for i in train_positive]\n",
        "\n",
        "labels = np.concatenate([train_positive_labels, train_negative_labels])"
      ]
    },
    {
      "cell_type": "markdown",
      "source": [
        "GROUPS"
      ],
      "metadata": {
        "id": "2bv4iZryaV8j"
      }
    },
    {
      "cell_type": "code",
      "source": [
        "group = [[i] * len(j) for i, j in enumerate(train_data)]\n",
        "groups = np.hstack(group)\n",
        "groups.reshape(2400, 5)"
      ],
      "metadata": {
        "id": "Of5ed_UiaMM5",
        "colab": {
          "base_uri": "https://localhost:8080/"
        },
        "outputId": "eb9cf425-a96b-4a66-9063-b57aacbedd45"
      },
      "execution_count": null,
      "outputs": [
        {
          "output_type": "execute_result",
          "data": {
            "text/plain": [
              "array([[   0,    0,    0,    0,    0],\n",
              "       [   1,    1,    1,    1,    1],\n",
              "       [   2,    2,    2,    2,    2],\n",
              "       ...,\n",
              "       [2397, 2397, 2397, 2397, 2397],\n",
              "       [2398, 2398, 2398, 2398, 2398],\n",
              "       [2399, 2399, 2399, 2399, 2399]])"
            ]
          },
          "metadata": {},
          "execution_count": 166
        }
      ]
    },
    {
      "cell_type": "markdown",
      "source": [
        "SHORTCUTS"
      ],
      "metadata": {
        "id": "d2rGP_xiuYUC"
      }
    },
    {
      "cell_type": "code",
      "execution_count": null,
      "metadata": {
        "id": "FnCPrvn8tHf-",
        "colab": {
          "base_uri": "https://localhost:8080/"
        },
        "outputId": "3efdf52d-0c5b-4fba-eec5-39108cf3d244"
      },
      "outputs": [
        {
          "output_type": "execute_result",
          "data": {
            "text/plain": [
              "array([[[-8.44885178e+01, -7.69997253e+01, -7.01332932e+01, ...,\n",
              "          9.28685760e+01,  8.99707489e+01,  8.69728165e+01],\n",
              "        [-5.45517654e+01, -5.28542900e+01, -5.09494705e+01, ...,\n",
              "         -1.38154373e+02, -1.35486160e+02, -1.30965698e+02],\n",
              "        [ 2.27674828e+01,  2.58952370e+01,  2.82063007e+01, ...,\n",
              "          1.14711037e+01,  1.06297951e+01,  9.65520477e+00],\n",
              "        [ 5.25769463e+01,  5.90473061e+01,  6.53160934e+01, ...,\n",
              "          2.00038662e+01,  1.83169212e+01,  1.64354572e+01],\n",
              "        [-7.79736519e+00, -1.59868736e+01, -2.53779640e+01, ...,\n",
              "         -1.04340382e+01, -8.74531460e+00, -7.55909920e+00]],\n",
              "\n",
              "       [[ 2.72563725e+01,  2.41126728e+01,  2.07392082e+01, ...,\n",
              "         -1.55745494e+00, -3.90010357e+00, -7.55663252e+00],\n",
              "        [ 1.13742737e+02,  1.12231300e+02,  1.11114601e+02, ...,\n",
              "          1.91890259e+02,  2.04260132e+02,  2.15865036e+02],\n",
              "        [-4.37441319e-01,  2.93934560e+00,  6.00075579e+00, ...,\n",
              "         -1.17654037e+01, -1.10633850e+01, -1.00172834e+01],\n",
              "        [ 5.97598362e+00,  7.27284861e+00,  8.03724098e+00, ...,\n",
              "          2.16444087e+00,  1.75164354e+00,  1.08048582e+00],\n",
              "        [ 8.41992795e-01,  1.55530667e+00,  2.43813348e+00, ...,\n",
              "          6.33870304e-01,  3.71197492e-01,  4.07741172e-03]],\n",
              "\n",
              "       [[-3.94676437e+01, -2.96032124e+01, -2.02878323e+01, ...,\n",
              "          1.28024872e+02,  1.29216293e+02,  1.27118576e+02],\n",
              "        [ 1.18241089e+02,  1.19399185e+02,  1.22789360e+02, ...,\n",
              "         -3.76052628e+01, -3.93574371e+01, -4.27493591e+01],\n",
              "        [ 9.17767715e+00,  9.03390980e+00,  9.15634537e+00, ...,\n",
              "         -2.81560469e+00, -3.97598052e+00, -5.12555504e+00],\n",
              "        [-1.01652174e+01, -9.21023941e+00, -9.11168098e+00, ...,\n",
              "          1.37586129e+00, -1.25808454e+00, -3.87489963e+00],\n",
              "        [-1.52516670e+01, -1.46870966e+01, -1.34430313e+01, ...,\n",
              "         -6.39249516e+00, -2.68149686e+00,  8.08168411e-01]],\n",
              "\n",
              "       ...,\n",
              "\n",
              "       [[-7.06805134e+00, -6.75260639e+00, -7.27805138e+00, ...,\n",
              "         -3.16439104e+00, -2.51589894e+00, -2.15896392e+00],\n",
              "        [-1.73064537e+01, -1.77298336e+01, -1.82524834e+01, ...,\n",
              "         -2.22764072e+01, -2.45424824e+01, -2.68216152e+01],\n",
              "        [-6.99321890e+00, -7.50028467e+00, -6.85918236e+00, ...,\n",
              "         -8.49317455e+00, -8.06377792e+00, -7.06205893e+00],\n",
              "        [-1.98278160e+01, -1.96504478e+01, -1.90365829e+01, ...,\n",
              "          7.84003884e-02, -9.36859071e-01, -1.72688329e+00],\n",
              "        [-1.75083523e+01, -1.68220901e+01, -1.61456509e+01, ...,\n",
              "         -7.76243162e+00, -6.63099432e+00, -6.01355982e+00]],\n",
              "\n",
              "       [[-6.13179684e+00, -6.11683559e+00, -5.70707130e+00, ...,\n",
              "         -5.69533014e+00, -5.73260975e+00, -5.19196129e+00],\n",
              "        [ 1.48044815e+01,  1.58145313e+01,  1.68765354e+01, ...,\n",
              "          5.74287910e+01,  5.71678314e+01,  5.62821999e+01],\n",
              "        [-1.46097565e+01, -1.26868820e+01, -1.13746462e+01, ...,\n",
              "         -8.23536396e+00, -7.46442890e+00, -7.40625763e+00],\n",
              "        [-1.98476429e+01, -2.10298290e+01, -2.18525238e+01, ...,\n",
              "          3.05967999e+00,  3.25408340e+00,  3.52980328e+00],\n",
              "        [ 2.53393135e+01,  2.27635727e+01,  2.06470585e+01, ...,\n",
              "          4.56875801e+01,  4.71926003e+01,  4.81108246e+01]],\n",
              "\n",
              "       [[ 4.14197159e+01,  4.24736862e+01,  4.84649925e+01, ...,\n",
              "          2.97377148e+01,  2.63005028e+01,  2.18158760e+01],\n",
              "        [-1.59339462e+02, -1.57596909e+02, -1.62884338e+02, ...,\n",
              "         -4.96845169e+01, -4.47636337e+01, -3.95725250e+01],\n",
              "        [-1.59348001e+01, -1.80214405e+01, -1.97764053e+01, ...,\n",
              "          3.81983304e+00,  4.61490822e+00,  5.48622751e+00],\n",
              "        [-7.86498451e+00, -7.55973577e+00, -7.37127209e+00, ...,\n",
              "          5.51066017e+00,  5.58378553e+00,  6.28039455e+00],\n",
              "        [ 2.40031719e+01,  2.54166489e+01,  2.65791054e+01, ...,\n",
              "         -2.13097787e+00, -4.08076906e+00, -5.97341013e+00]]],\n",
              "      dtype=float32)"
            ]
          },
          "metadata": {},
          "execution_count": 167
        }
      ],
      "source": [
        "#X_train = train_data\n",
        "X_train = np.vstack(train_data)\n",
        "X_train.reshape(2400, 5, 768)\n",
        "#Y_train = labels\n",
        "Y_train = np.hstack(labels)\n",
        "Y_train.reshape(2400, 5)\n",
        "X_test = np.vstack(test_data)\n",
        "X_test.reshape(1200, 5, 768)\n",
        "#X_test = np.vstack(test_data)\n",
        "#print(X_train.shape, Y_train.shape, X_test.shape)\n",
        "#print(X_train[0])"
      ]
    },
    {
      "cell_type": "markdown",
      "source": [
        "MODEL TRAINING - Logistic Regression"
      ],
      "metadata": {
        "id": "TdiUI0CMuXu1"
      }
    },
    {
      "cell_type": "code",
      "source": [
        "model = LogisticRegression()\n",
        "gkf = GroupKFold(n_splits = 5)\n",
        "param_grid = {'classifier__C': [0.01, 0.05, 0.1, 0.5, 1, 2, 3, 4, 5, 8, 10, 12, 15]}\n",
        "pipe = Pipeline([('scaler', StandardScaler()), ('classifier', model)])\n",
        "gscv = GridSearchCV(pipe, param_grid, cv = gkf, n_jobs = 32)\n",
        "gscv.fit(X_train, Y_train, groups = groups)\n",
        "#model.fit(X_train, Y_train)"
      ],
      "metadata": {
        "id": "uPQt92aFuAEc",
        "colab": {
          "base_uri": "https://localhost:8080/"
        },
        "outputId": "ba328704-39dc-42af-d081-aeb5387f09a4"
      },
      "execution_count": null,
      "outputs": [
        {
          "output_type": "stream",
          "name": "stderr",
          "text": [
            "/usr/local/lib/python3.7/dist-packages/sklearn/linear_model/_logistic.py:818: ConvergenceWarning: lbfgs failed to converge (status=1):\n",
            "STOP: TOTAL NO. of ITERATIONS REACHED LIMIT.\n",
            "\n",
            "Increase the number of iterations (max_iter) or scale the data as shown in:\n",
            "    https://scikit-learn.org/stable/modules/preprocessing.html\n",
            "Please also refer to the documentation for alternative solver options:\n",
            "    https://scikit-learn.org/stable/modules/linear_model.html#logistic-regression\n",
            "  extra_warning_msg=_LOGISTIC_SOLVER_CONVERGENCE_MSG,\n"
          ]
        },
        {
          "output_type": "execute_result",
          "data": {
            "text/plain": [
              "GridSearchCV(cv=GroupKFold(n_splits=5),\n",
              "             estimator=Pipeline(steps=[('scaler', StandardScaler()),\n",
              "                                       ('classifier', LogisticRegression())]),\n",
              "             n_jobs=32,\n",
              "             param_grid={'classifier__C': [0.01, 0.05, 0.1, 0.5, 1, 2, 3, 4, 5,\n",
              "                                           8, 10, 12, 15]})"
            ]
          },
          "metadata": {},
          "execution_count": 8
        }
      ]
    },
    {
      "cell_type": "markdown",
      "source": [
        "MODEL TRAINING - SVM"
      ],
      "metadata": {
        "id": "GeXo6BheopRX"
      }
    },
    {
      "cell_type": "code",
      "source": [
        "#model_2 = svm.SVC(kernel = 'linear')\n",
        "#gkf = GroupKFold(n_splits = 5)\n",
        "#param_grid = {'classifier__C': [0.01, 0.05, 0.1, 0.5, 1, 2, 3, 4, 5, 8, 10, 12, 15]}\n",
        "#pipe = Pipeline([('scaler', StandardScaler()), ('classifier', model_2)])\n",
        "#gscv = GridSearchCV(pipe, param_grid, cv = gkf, n_jobs = 1)\n",
        "#gscv.fit(X_train, Y_train, groups = groups)\n",
        "#model_2.fit(X_train, Y_train)"
      ],
      "metadata": {
        "id": "x94Ejy_OjJT7"
      },
      "execution_count": null,
      "outputs": []
    },
    {
      "cell_type": "markdown",
      "source": [
        "MODEL TRAINING - Decision Tree"
      ],
      "metadata": {
        "id": "SVlhqeMzwvBL"
      }
    },
    {
      "cell_type": "code",
      "source": [
        "tree = DecisionTreeClassifier(criterion = 'entropy', random_state = 0)\n",
        "tree.fit(X_train, Y_train)"
      ],
      "metadata": {
        "colab": {
          "base_uri": "https://localhost:8080/"
        },
        "id": "gBuGTPQnrSDZ",
        "outputId": "608f0319-4aaa-41ea-f098-6752003daaa7"
      },
      "execution_count": null,
      "outputs": [
        {
          "output_type": "execute_result",
          "data": {
            "text/plain": [
              "DecisionTreeClassifier(criterion='entropy', random_state=0)"
            ]
          },
          "metadata": {},
          "execution_count": 38
        }
      ]
    },
    {
      "cell_type": "code",
      "source": [
        "sc = StandardScaler()\n",
        "X_train = sc.fit_transform(X_train)\n",
        "X_test = sc.transform(X_test)"
      ],
      "metadata": {
        "id": "FgS-hOyLWzSq"
      },
      "execution_count": null,
      "outputs": []
    },
    {
      "cell_type": "markdown",
      "source": [
        "MODEL TRAINING - Random Forest Classifier"
      ],
      "metadata": {
        "id": "dghVO21Lw53-"
      }
    },
    {
      "cell_type": "code",
      "source": [
        "#MODEL TRAINING FINAL\n",
        "\n",
        "forest_FINAL = RandomForestRegressor(random_state = 0, max_features = 'auto', n_estimators = 102, min_samples_leaf=50)\n",
        "forest_FINAL.fit(X_train, Y_train)"
      ],
      "metadata": {
        "colab": {
          "base_uri": "https://localhost:8080/"
        },
        "id": "LzrbI_B125Xy",
        "outputId": "ca16baa8-ab65-4fc1-e6d4-de56a271bf4f"
      },
      "execution_count": null,
      "outputs": [
        {
          "output_type": "execute_result",
          "data": {
            "text/plain": [
              "RandomForestRegressor(min_samples_leaf=50, n_estimators=102, random_state=0)"
            ]
          },
          "metadata": {},
          "execution_count": 170
        }
      ]
    },
    {
      "cell_type": "markdown",
      "source": [
        "MODEL EVALUATION - TRAINING DATA "
      ],
      "metadata": {
        "id": "_XX7bsGG8Z4M"
      }
    },
    {
      "cell_type": "code",
      "source": [
        "#X_train_prediction = forest.predict(X_train)\n",
        "#training_data_accuracy = accuracy_score(X_train_prediction, Y_train)\n",
        "#print('Logistic Regression Accuracy: ', training_data_accuracy)\n",
        "#print('Decision Tree Accuracy: ', tree.score(X_train, Y_train))\n",
        "print('Random Forest Classifier Accuracy: ', forest_FINAL.score(X_train, Y_train))"
      ],
      "metadata": {
        "id": "XSUZ-6jhvfDv",
        "colab": {
          "base_uri": "https://localhost:8080/"
        },
        "outputId": "16f55534-c2b3-4227-af82-5c09fccfd208"
      },
      "execution_count": null,
      "outputs": [
        {
          "output_type": "stream",
          "name": "stdout",
          "text": [
            "Random Forest Classifier Accuracy:  0.8928333333333334\n"
          ]
        }
      ]
    },
    {
      "cell_type": "markdown",
      "source": [
        "PREDICTION - TEST DATA"
      ],
      "metadata": {
        "id": "zNH0C6pR8U1S"
      }
    },
    {
      "cell_type": "code",
      "source": [
        "Predictions = forest_FINAL.predict(X_test)\n",
        "\n",
        "Predictions_Final = np.empty(1200, dtype = int)\n",
        "i=0\n",
        "l=0\n",
        "while i<len(Predictions):\n",
        "    j=i\n",
        "    k=j+5\n",
        "    while j<k:\n",
        "        ok=0\n",
        "        if(Predictions[j]==1):\n",
        "          ok=1\n",
        "          j=k\n",
        "        j+=1\n",
        "    if ok==0:\n",
        "        Predictions_Final[l]=0\n",
        "    else:\n",
        "      Predictions_Final[l]=1\n",
        "    l+=1\n",
        "    i+=5\n",
        "i=0 "
      ],
      "metadata": {
        "id": "cODzqVmE8NBO"
      },
      "execution_count": null,
      "outputs": []
    },
    {
      "cell_type": "markdown",
      "source": [
        "CREATING A SUBMISSION FILE"
      ],
      "metadata": {
        "id": "dUDEcCJd_pmQ"
      }
    },
    {
      "cell_type": "code",
      "source": [
        "Id = np.array(range(0, 1200))\n",
        "output = pd.DataFrame({'Outcome' : Predictions_Final, 'Id' : Id.tolist()})"
      ],
      "metadata": {
        "id": "UtnVv1s0_r_Y"
      },
      "execution_count": null,
      "outputs": []
    },
    {
      "cell_type": "code",
      "source": [
        "output.to_csv('sampleSubmission_F.csv', index=False)"
      ],
      "metadata": {
        "id": "0CWfFsHgL6Gp"
      },
      "execution_count": null,
      "outputs": []
    },
    {
      "cell_type": "code",
      "source": [
        "i = 0\n",
        "counter = 1\n",
        "status = 0\n",
        "new_array = []\n",
        "for i in predictions:\n",
        "  if(predictions[i] > 0):\n",
        "      value = 1\n",
        "      status = 1\n",
        "  else:\n",
        "      if(status == 0):\n",
        "        value = 0\n",
        "  counter += 1\n",
        "  if(counter%5 == 0):\n",
        "      new_array.append(value)\n",
        "      status = 0\n",
        "print(len(new_array))\n",
        "print(new_array[0])\n",
        "\n"
      ],
      "metadata": {
        "colab": {
          "base_uri": "https://localhost:8080/",
          "height": 249
        },
        "id": "G6QwTtg3Dduk",
        "outputId": "fc54a08c-94d0-47d0-c5a9-8f423b8e1a3a"
      },
      "execution_count": null,
      "outputs": [
        {
          "output_type": "error",
          "ename": "NameError",
          "evalue": "ignored",
          "traceback": [
            "\u001b[0;31m---------------------------------------------------------------------------\u001b[0m",
            "\u001b[0;31mNameError\u001b[0m                                 Traceback (most recent call last)",
            "\u001b[0;32m<ipython-input-1-1a036ed2746d>\u001b[0m in \u001b[0;36m<module>\u001b[0;34m()\u001b[0m\n\u001b[1;32m      3\u001b[0m \u001b[0mstatus\u001b[0m \u001b[0;34m=\u001b[0m \u001b[0;36m0\u001b[0m\u001b[0;34m\u001b[0m\u001b[0;34m\u001b[0m\u001b[0m\n\u001b[1;32m      4\u001b[0m \u001b[0mnew_array\u001b[0m \u001b[0;34m=\u001b[0m \u001b[0;34m[\u001b[0m\u001b[0;34m]\u001b[0m\u001b[0;34m\u001b[0m\u001b[0;34m\u001b[0m\u001b[0m\n\u001b[0;32m----> 5\u001b[0;31m \u001b[0;32mfor\u001b[0m \u001b[0mi\u001b[0m \u001b[0;32min\u001b[0m \u001b[0mpredictions\u001b[0m\u001b[0;34m:\u001b[0m\u001b[0;34m\u001b[0m\u001b[0;34m\u001b[0m\u001b[0m\n\u001b[0m\u001b[1;32m      6\u001b[0m   \u001b[0;32mif\u001b[0m\u001b[0;34m(\u001b[0m\u001b[0mpredictions\u001b[0m\u001b[0;34m[\u001b[0m\u001b[0mi\u001b[0m\u001b[0;34m]\u001b[0m \u001b[0;34m>\u001b[0m \u001b[0;36m0\u001b[0m\u001b[0;34m)\u001b[0m\u001b[0;34m:\u001b[0m\u001b[0;34m\u001b[0m\u001b[0;34m\u001b[0m\u001b[0m\n\u001b[1;32m      7\u001b[0m       \u001b[0mvalue\u001b[0m \u001b[0;34m=\u001b[0m \u001b[0;36m1\u001b[0m\u001b[0;34m\u001b[0m\u001b[0;34m\u001b[0m\u001b[0m\n",
            "\u001b[0;31mNameError\u001b[0m: name 'predictions' is not defined"
          ]
        }
      ]
    }
  ]
}